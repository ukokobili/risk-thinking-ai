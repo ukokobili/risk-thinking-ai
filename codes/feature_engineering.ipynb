{
 "cells": [
  {
   "cell_type": "code",
   "execution_count": 1,
   "metadata": {},
   "outputs": [],
   "source": [
    "import os\n",
    "import pandas as pd"
   ]
  },
  {
   "cell_type": "code",
   "execution_count": 3,
   "metadata": {},
   "outputs": [],
   "source": [
    "# Define the directory path\n",
    "dir_path = '/home/nerd/RiskThinking/load/stocks'\n",
    "\n",
    "# Get a list of all file paths in the directory\n",
    "file_paths = [os.path.join(dir_path, f) for f in os.listdir(dir_path) if f.endswith('.csv')]"
   ]
  },
  {
   "cell_type": "code",
   "execution_count": 4,
   "metadata": {},
   "outputs": [],
   "source": [
    "# Initialize an empty list to hold the dataframes\n",
    "dfs = []\n",
    "\n",
    "# Loop through each file path and read the CSV file into a dataframe\n",
    "for file_path in file_paths:\n",
    "    df = pd.read_csv(file_path)\n",
    "    dfs.append(df)\n",
    "\n",
    "# Concatenate all the dataframes together into a single dataframe\n",
    "df = pd.concat(dfs, ignore_index=True)\n",
    " "
   ]
  },
  {
   "cell_type": "code",
   "execution_count": null,
   "metadata": {},
   "outputs": [],
   "source": [
    "# Concatenate all the dataframes together into a single dataframe\n",
    "df = pd.concat(dfs, ignore_index=True)\n",
    " \n",
    "# change fields name to small letters and replace white spaces with underscore\n",
    "df.columns = df.columns.str.lower().str.replace(' ','_')\n",
    "\n",
    "# Convert the 'Date' column to a datetime object\n",
    "df['date'] = pd.to_datetime(df['date'])\n",
    "\n",
    "# Group the DataFrame by symbol and calculate the rolling 30-day moving average of the trading volume\n",
    "df['vol_moving_avg'] = df.groupby('symbol')['volume'].rolling(window=30).mean().reset_index(0, drop=True)\n",
    "\n",
    "# Calculate the rolling median with a window size of 30\n",
    "df['adj_close_rolling_med'] = df['adj_close'].rolling(window=30).median()\n",
    "\n",
    "\n",
    "\n",
    "# Save the updated DataFrame to a new CSV file\n",
    "#df.to_csv('/home/nerd/RiskThinking/load/stocks_ma.csv', index=False)\n"
   ]
  },
  {
   "cell_type": "code",
   "execution_count": null,
   "metadata": {},
   "outputs": [],
   "source": [
    "\n",
    "\n",
    "# define the paths of the folders containing the CSV files\n",
    "stocks_path = '/home/nerd/RiskThinking/load/stocks'\n",
    "\n",
    "# define the path of the output folder\n",
    "output_folder = '/home/nerd/RiskThinking/stage/'\n",
    "\n",
    "# create the output folder if it doesn't exist\n",
    "if not os.path.exists(output_folder):\n",
    "    os.makedirs(output_folder)\n",
    "\n",
    "# process the files in folder 1\n",
    "for filename in os.listdir(stocks_path):\n",
    "    if filename.endswith('.csv'):\n",
    "        # load the data into a DataFrame\n",
    "        df = pd.read_csv(os.path.join(stocks_path, filename))\n",
    "\n",
    "        # change fields name to small letters and replace white spaces with underscore\n",
    "        df.columns = df.columns.str.lower().str.replace(' ','_')\n",
    "\n",
    "        # Convert the 'Date' column to a datetime object\n",
    "        df['date'] = pd.to_datetime(df['date'])\n",
    "\n",
    "        # Group the DataFrame by symbol and calculate the rolling 30-day moving average of the trading volume\n",
    "        df['vol_moving_avg'] = df.groupby('symbol')['volume'].rolling(window=30).mean().reset_index(0, drop=True)\n",
    "\n",
    "        # Calculate the rolling median with a window size of 30\n",
    "        df['adj_close_rolling_med'] = df['adj_close'].rolling(window=30).median()\n",
    "\n",
    "        # save the updated DataFrame to a new CSV file in the output folder\n",
    "        output_path = os.path.join(output_folder, 'stocks', filename)\n",
    "        if not os.path.exists(os.path.dirname(output_path)):\n",
    "            os.makedirs(os.path.dirname(output_path))\n",
    "        df.to_csv(output_path, index=False)\n",
    "\n"
   ]
  },
  {
   "cell_type": "code",
   "execution_count": null,
   "metadata": {},
   "outputs": [],
   "source": [
    "\n",
    "\n",
    "# define the paths of the folders containing the CSV files\n",
    "etfs_path = '/home/nerd/RiskThinking/load/etfs'\n",
    "\n",
    "# define the path of the output folder\n",
    "output_folder = '/home/nerd/RiskThinking/stage/'\n",
    "\n",
    "# create the output folder if it doesn't exist\n",
    "if not os.path.exists(output_folder):\n",
    "    os.makedirs(output_folder)\n",
    "\n",
    "# process the files in folder 1\n",
    "for filename in os.listdir(etfs_path):\n",
    "    if filename.endswith('.csv'):\n",
    "        # load the data into a DataFrame\n",
    "        df = pd.read_csv(os.path.join(etfs_path, filename))\n",
    "\n",
    "        # change fields name to small letters and replace white spaces with underscore\n",
    "        df.columns = df.columns.str.lower().str.replace(' ','_')\n",
    "\n",
    "        # Convert the 'Date' column to a datetime object\n",
    "        df['date'] = pd.to_datetime(df['date'])\n",
    "\n",
    "        # Group the DataFrame by symbol and calculate the rolling 30-day moving average of the trading volume\n",
    "        df['vol_moving_avg'] = df.groupby('symbol')['volume'].rolling(window=30).mean().reset_index(0, drop=True)\n",
    "\n",
    "        # Calculate the rolling median with a window size of 30\n",
    "        df['adj_close_rolling_med'] = df['adj_close'].rolling(window=30).median()\n",
    "\n",
    "        # save the updated DataFrame to a new CSV file in the output folder\n",
    "        output_path = os.path.join(output_folder, 'etfs', filename)\n",
    "        if not os.path.exists(os.path.dirname(output_path)):\n",
    "            os.makedirs(os.path.dirname(output_path))\n",
    "        df.to_csv(output_path, index=False)\n",
    "\n"
   ]
  }
 ],
 "metadata": {
  "kernelspec": {
   "display_name": "base",
   "language": "python",
   "name": "python3"
  },
  "language_info": {
   "codemirror_mode": {
    "name": "ipython",
    "version": 3
   },
   "file_extension": ".py",
   "mimetype": "text/x-python",
   "name": "python",
   "nbconvert_exporter": "python",
   "pygments_lexer": "ipython3",
   "version": "3.9.12"
  },
  "orig_nbformat": 4
 },
 "nbformat": 4,
 "nbformat_minor": 2
}
