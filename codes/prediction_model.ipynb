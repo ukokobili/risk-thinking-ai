{
 "cells": [
  {
   "attachments": {},
   "cell_type": "markdown",
   "metadata": {},
   "source": [
    "## Stocks & ETFs Machine Learning Predictive Model "
   ]
  },
  {
   "cell_type": "code",
   "execution_count": 1,
   "metadata": {},
   "outputs": [],
   "source": [
    "# Import libraries\n",
    "import os\n",
    "import numpy as np\n",
    "import pandas as pd"
   ]
  },
  {
   "attachments": {},
   "cell_type": "markdown",
   "metadata": {},
   "source": [
    "#### 1. Data Preparation"
   ]
  },
  {
   "cell_type": "code",
   "execution_count": 2,
   "metadata": {},
   "outputs": [],
   "source": [
    " # define the path to the directory containing the files\n",
    "dir_paths = ['/home/nerd/RiskThinking/stage/etfs'] #, '/home/nerd/RiskThinking/stage/etfs/']"
   ]
  },
  {
   "cell_type": "code",
   "execution_count": 3,
   "metadata": {},
   "outputs": [],
   "source": [
    "# Get a list of all file paths in the directories\n",
    "# Create an empty list to hold the file paths\n",
    "file_paths = []  \n",
    "# Loop over each directory path\n",
    "for dir_path in dir_paths:  \n",
    "    \"\"\"\n",
    "    Use os.listdir() to get a list of all files in the directory, then filter for only CSV files using .endswith()\n",
    "    Use os.path.join() to join the directory path and file name into a full file path\n",
    "    Append each full file path to the file_paths list\n",
    "    \"\"\"\n",
    "    file_paths += [os.path.join(dir_path, f) for f in os.listdir(dir_path) if f.endswith('.csv')]"
   ]
  },
  {
   "cell_type": "code",
   "execution_count": 4,
   "metadata": {},
   "outputs": [],
   "source": [
    "# Initialize an empty list to hold the dataframes\n",
    "dfs = []\n",
    "\n",
    "# Loop through each file path and read the CSV file into a dataframe\n",
    "for file_path in file_paths:  # Loop over each file path\n",
    "    df = pd.read_csv(file_path)  # Use pandas' read_csv() function to read the CSV file into a dataframe\n",
    "    dfs.append(df)  # Append the dataframe to the dfs list\n"
   ]
  },
  {
   "cell_type": "code",
   "execution_count": 5,
   "metadata": {},
   "outputs": [],
   "source": [
    "# Concatenate all the dataframes together into a single dataframe\n",
    "df = pd.concat(dfs, ignore_index=True)"
   ]
  },
  {
   "cell_type": "code",
   "execution_count": 6,
   "metadata": {},
   "outputs": [
    {
     "data": {
      "text/html": [
       "<div>\n",
       "<style scoped>\n",
       "    .dataframe tbody tr th:only-of-type {\n",
       "        vertical-align: middle;\n",
       "    }\n",
       "\n",
       "    .dataframe tbody tr th {\n",
       "        vertical-align: top;\n",
       "    }\n",
       "\n",
       "    .dataframe thead th {\n",
       "        text-align: right;\n",
       "    }\n",
       "</style>\n",
       "<table border=\"1\" class=\"dataframe\">\n",
       "  <thead>\n",
       "    <tr style=\"text-align: right;\">\n",
       "      <th></th>\n",
       "      <th>symbol</th>\n",
       "      <th>security_name</th>\n",
       "      <th>date</th>\n",
       "      <th>open</th>\n",
       "      <th>high</th>\n",
       "      <th>low</th>\n",
       "      <th>close</th>\n",
       "      <th>adj_close</th>\n",
       "      <th>volume</th>\n",
       "      <th>vol_moving_avg</th>\n",
       "      <th>adj_close_rolling_med</th>\n",
       "    </tr>\n",
       "  </thead>\n",
       "  <tbody>\n",
       "    <tr>\n",
       "      <th>3954311</th>\n",
       "      <td>PACA</td>\n",
       "      <td>Xtrackers MSCI Latin America Pacific Alliance ETF</td>\n",
       "      <td>2020-03-26</td>\n",
       "      <td>15.940</td>\n",
       "      <td>15.940</td>\n",
       "      <td>15.940</td>\n",
       "      <td>15.940</td>\n",
       "      <td>15.940</td>\n",
       "      <td>100.0</td>\n",
       "      <td>93.333333</td>\n",
       "      <td>21.488000</td>\n",
       "    </tr>\n",
       "    <tr>\n",
       "      <th>3954312</th>\n",
       "      <td>PACA</td>\n",
       "      <td>Xtrackers MSCI Latin America Pacific Alliance ETF</td>\n",
       "      <td>2020-03-27</td>\n",
       "      <td>15.042</td>\n",
       "      <td>15.042</td>\n",
       "      <td>15.042</td>\n",
       "      <td>15.042</td>\n",
       "      <td>15.042</td>\n",
       "      <td>0.0</td>\n",
       "      <td>93.333333</td>\n",
       "      <td>20.618000</td>\n",
       "    </tr>\n",
       "    <tr>\n",
       "      <th>3954313</th>\n",
       "      <td>PACA</td>\n",
       "      <td>Xtrackers MSCI Latin America Pacific Alliance ETF</td>\n",
       "      <td>2020-03-30</td>\n",
       "      <td>14.981</td>\n",
       "      <td>14.981</td>\n",
       "      <td>14.981</td>\n",
       "      <td>14.981</td>\n",
       "      <td>14.981</td>\n",
       "      <td>100.0</td>\n",
       "      <td>96.666667</td>\n",
       "      <td>19.537499</td>\n",
       "    </tr>\n",
       "    <tr>\n",
       "      <th>3954314</th>\n",
       "      <td>PACA</td>\n",
       "      <td>Xtrackers MSCI Latin America Pacific Alliance ETF</td>\n",
       "      <td>2020-03-31</td>\n",
       "      <td>15.444</td>\n",
       "      <td>15.444</td>\n",
       "      <td>15.444</td>\n",
       "      <td>15.444</td>\n",
       "      <td>15.444</td>\n",
       "      <td>0.0</td>\n",
       "      <td>96.666667</td>\n",
       "      <td>18.992999</td>\n",
       "    </tr>\n",
       "    <tr>\n",
       "      <th>3954315</th>\n",
       "      <td>PACA</td>\n",
       "      <td>Xtrackers MSCI Latin America Pacific Alliance ETF</td>\n",
       "      <td>2020-04-01</td>\n",
       "      <td>14.659</td>\n",
       "      <td>14.659</td>\n",
       "      <td>14.659</td>\n",
       "      <td>14.659</td>\n",
       "      <td>14.659</td>\n",
       "      <td>0.0</td>\n",
       "      <td>93.333333</td>\n",
       "      <td>18.370999</td>\n",
       "    </tr>\n",
       "  </tbody>\n",
       "</table>\n",
       "</div>"
      ],
      "text/plain": [
       "        symbol                                      security_name        date  \\\n",
       "3954311   PACA  Xtrackers MSCI Latin America Pacific Alliance ETF  2020-03-26   \n",
       "3954312   PACA  Xtrackers MSCI Latin America Pacific Alliance ETF  2020-03-27   \n",
       "3954313   PACA  Xtrackers MSCI Latin America Pacific Alliance ETF  2020-03-30   \n",
       "3954314   PACA  Xtrackers MSCI Latin America Pacific Alliance ETF  2020-03-31   \n",
       "3954315   PACA  Xtrackers MSCI Latin America Pacific Alliance ETF  2020-04-01   \n",
       "\n",
       "           open    high     low   close  adj_close  volume  vol_moving_avg  \\\n",
       "3954311  15.940  15.940  15.940  15.940     15.940   100.0       93.333333   \n",
       "3954312  15.042  15.042  15.042  15.042     15.042     0.0       93.333333   \n",
       "3954313  14.981  14.981  14.981  14.981     14.981   100.0       96.666667   \n",
       "3954314  15.444  15.444  15.444  15.444     15.444     0.0       96.666667   \n",
       "3954315  14.659  14.659  14.659  14.659     14.659     0.0       93.333333   \n",
       "\n",
       "         adj_close_rolling_med  \n",
       "3954311              21.488000  \n",
       "3954312              20.618000  \n",
       "3954313              19.537499  \n",
       "3954314              18.992999  \n",
       "3954315              18.370999  "
      ]
     },
     "execution_count": 6,
     "metadata": {},
     "output_type": "execute_result"
    }
   ],
   "source": [
    "df.tail()"
   ]
  },
  {
   "cell_type": "code",
   "execution_count": 7,
   "metadata": {},
   "outputs": [],
   "source": [
    "import matplotlib.pyplot as plt\n",
    "import seaborn as sns\n",
    "\n",
    "%matplotlib inline"
   ]
  },
  {
   "cell_type": "code",
   "execution_count": 8,
   "metadata": {},
   "outputs": [
    {
     "data": {
      "text/plain": [
       "<AxesSubplot:xlabel='volume', ylabel='Count'>"
      ]
     },
     "execution_count": 8,
     "metadata": {},
     "output_type": "execute_result"
    },
    {
     "data": {
      "image/png": "[encoded data removed]",
      "text/plain": [
       "<Figure size 432x288 with 1 Axes>"
      ]
     },
     "metadata": {
      "needs_background": "light"
     },
     "output_type": "display_data"
    }
   ],
   "source": [
    "sns.histplot(df.volume[df.volume < .25], bins=25)"
   ]
  },
  {
   "cell_type": "code",
   "execution_count": 9,
   "metadata": {},
   "outputs": [],
   "source": [
    "vol = np.log1p(df.volume)"
   ]
  },
  {
   "cell_type": "code",
   "execution_count": 10,
   "metadata": {},
   "outputs": [
    {
     "data": {
      "text/plain": [
       "0          7.937732\n",
       "1          7.378384\n",
       "2          5.993961\n",
       "3          0.000000\n",
       "4          0.000000\n",
       "             ...   \n",
       "3954311    4.615121\n",
       "3954312    0.000000\n",
       "3954313    4.615121\n",
       "3954314    0.000000\n",
       "3954315    0.000000\n",
       "Name: volume, Length: 3954316, dtype: float64"
      ]
     },
     "execution_count": 10,
     "metadata": {},
     "output_type": "execute_result"
    }
   ],
   "source": [
    "vol"
   ]
  },
  {
   "cell_type": "code",
   "execution_count": 11,
   "metadata": {},
   "outputs": [
    {
     "data": {
      "text/plain": [
       "<AxesSubplot:xlabel='volume', ylabel='Count'>"
      ]
     },
     "execution_count": 11,
     "metadata": {},
     "output_type": "execute_result"
    },
    {
     "data": {
      "image/png": "[encoded data removed]",
      "text/plain": [
       "<Figure size 432x288 with 1 Axes>"
      ]
     },
     "metadata": {
      "needs_background": "light"
     },
     "output_type": "display_data"
    }
   ],
   "source": [
    "sns.histplot(vol, bins=50)"
   ]
  },
  {
   "cell_type": "code",
   "execution_count": 12,
   "metadata": {},
   "outputs": [
    {
     "data": {
      "text/plain": [
       "3954316"
      ]
     },
     "execution_count": 12,
     "metadata": {},
     "output_type": "execute_result"
    }
   ],
   "source": [
    "len(df)"
   ]
  },
  {
   "cell_type": "code",
   "execution_count": 13,
   "metadata": {},
   "outputs": [],
   "source": [
    "import pandas as pd\n",
    "from sklearn.model_selection import train_test_split\n",
    "from sklearn.ensemble import RandomForestRegressor\n",
    "from sklearn.metrics import mean_absolute_error, mean_squared_error"
   ]
  },
  {
   "cell_type": "code",
   "execution_count": 14,
   "metadata": {},
   "outputs": [],
   "source": [
    "# Assume `data` is loaded as a Pandas dfFrame\n",
    "df['date'] = pd.to_datetime(df['date'])\n",
    "df.set_index('date', inplace=True)"
   ]
  },
  {
   "cell_type": "code",
   "execution_count": 15,
   "metadata": {},
   "outputs": [],
   "source": [
    "# Remove rows with NaN values\n",
    "df.dropna(inplace=True)"
   ]
  },
  {
   "cell_type": "code",
   "execution_count": 16,
   "metadata": {},
   "outputs": [],
   "source": [
    "np.random.seed(2)\n",
    "\n",
    "n = len(df)\n",
    "\n",
    "sample = int(0.1 * n)\n",
    "\n",
    "idx = np.arange(n)\n",
    "np.random.shuffle(idx)"
   ]
  },
  {
   "cell_type": "code",
   "execution_count": 17,
   "metadata": {},
   "outputs": [],
   "source": [
    "df_shuffled = df.iloc[idx]"
   ]
  },
  {
   "cell_type": "code",
   "execution_count": 18,
   "metadata": {},
   "outputs": [],
   "source": [
    "df2 = df_shuffled.iloc[ :sample].copy()"
   ]
  },
  {
   "cell_type": "code",
   "execution_count": 19,
   "metadata": {},
   "outputs": [],
   "source": [
    "# Select features and target\n",
    "features = ['vol_moving_avg', 'adj_close_rolling_med']\n",
    "target = 'volume'"
   ]
  },
  {
   "cell_type": "code",
   "execution_count": 20,
   "metadata": {},
   "outputs": [],
   "source": [
    "X = df2[features]\n",
    "y = np.log1p(df2[target])"
   ]
  },
  {
   "cell_type": "code",
   "execution_count": 21,
   "metadata": {},
   "outputs": [],
   "source": [
    "# Split df into train and test sets\n",
    "X_train, X_test, y_train, y_test = train_test_split(X, y, test_size=0.2, random_state=42)"
   ]
  },
  {
   "cell_type": "code",
   "execution_count": 34,
   "metadata": {},
   "outputs": [],
   "source": [
    "# Create a RandomForestRegressor model\n",
    "model = RandomForestRegressor(n_estimators=10, n_jobs=-1, random_state=1)"
   ]
  },
  {
   "cell_type": "code",
   "execution_count": 35,
   "metadata": {},
   "outputs": [
    {
     "data": {
      "text/plain": [
       "RandomForestRegressor(n_estimators=10, n_jobs=-1, random_state=1)"
      ]
     },
     "execution_count": 35,
     "metadata": {},
     "output_type": "execute_result"
    }
   ],
   "source": [
    "# Train the model\n",
    "model.fit(X_train, y_train)"
   ]
  },
  {
   "cell_type": "code",
   "execution_count": 36,
   "metadata": {},
   "outputs": [],
   "source": [
    "# Make predictions on test data\n",
    "y_pred = model.predict(X_test)"
   ]
  },
  {
   "cell_type": "code",
   "execution_count": 37,
   "metadata": {},
   "outputs": [],
   "source": [
    "# Calculate the Mean Absolute Error and Mean Squared Error\n",
    "mae = mean_absolute_error(y_test, y_pred)\n",
    "mse = mean_squared_error(y_test, y_pred)"
   ]
  },
  {
   "cell_type": "code",
   "execution_count": 38,
   "metadata": {},
   "outputs": [
    {
     "data": {
      "text/plain": [
       "2.6230907503692555"
      ]
     },
     "execution_count": 38,
     "metadata": {},
     "output_type": "execute_result"
    }
   ],
   "source": [
    "mse"
   ]
  },
  {
   "cell_type": "code",
   "execution_count": 33,
   "metadata": {},
   "outputs": [
    {
     "data": {
      "text/plain": [
       "0.964741726043107"
      ]
     },
     "execution_count": 33,
     "metadata": {},
     "output_type": "execute_result"
    }
   ],
   "source": [
    "mae"
   ]
  },
  {
   "cell_type": "code",
   "execution_count": null,
   "metadata": {},
   "outputs": [],
   "source": []
  }
 ],
 "metadata": {
  "kernelspec": {
   "display_name": "base",
   "language": "python",
   "name": "python3"
  },
  "language_info": {
   "codemirror_mode": {
    "name": "ipython",
    "version": 3
   },
   "file_extension": ".py",
   "mimetype": "text/x-python",
   "name": "python",
   "nbconvert_exporter": "python",
   "pygments_lexer": "ipython3",
   "version": "3.9.12"
  },
  "orig_nbformat": 4
 },
 "nbformat": 4,
 "nbformat_minor": 2
}
