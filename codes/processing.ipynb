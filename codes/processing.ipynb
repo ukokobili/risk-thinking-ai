{
 "cells": [
  {
   "cell_type": "code",
   "execution_count": 53,
   "metadata": {},
   "outputs": [],
   "source": [
    "import pandas as pd\n",
    "import os"
   ]
  },
  {
   "cell_type": "code",
   "execution_count": 54,
   "metadata": {},
   "outputs": [],
   "source": [
    "# read symbols_valid_meta.csv into a pandas DataFrame\n",
    "# read symbols_valid_meta.csv into a pandas DataFrame with the desired datatypes\n",
    "symbols_df = pd.read_csv('symbols_valid_meta.csv')\n",
    "\n",
    "# define the path to the directory containing the files\n",
    "directories = ['./stocks/', './etfs/']"
   ]
  },
  {
   "cell_type": "code",
   "execution_count": 55,
   "metadata": {},
   "outputs": [],
   "source": [
    "# loop over the directories\n",
    "for directory in directories:\n",
    "    # loop over the files in the directory\n",
    "    for filename in os.listdir(directory):\n",
    "        if filename.endswith('.csv') and filename != 'symbols_valid_meta.csv':\n",
    "            # read the file into a pandas DataFrame\n",
    "            file_df = pd.read_csv(os.path.join(directory, filename), dtype={'Open': float, 'High': float, 'Low': float, 'Close': float, 'Adj Close': float, 'Volume': float})\n",
    "\n",
    "            # extract the symbol from the file name\n",
    "            symbol = os.path.splitext(os.path.basename(filename))[0]\n",
    "\n",
    "            # find the row in symbols_df that matches the extracted symbol\n",
    "            match = symbols_df[symbols_df['Symbol'] == symbol]\n",
    "\n",
    "            # if a match is found, add the Symbol and Security Name columns to file_df\n",
    "            if len(match) > 0:\n",
    "                file_df.insert(0, 'Symbol', match['Symbol'].iloc[0])\n",
    "                file_df.insert(1, 'Security Name', match['Security Name'].iloc[0])\n",
    "\n",
    "            # convert the Date column to the desired datatype\n",
    "            file_df['Date'] = pd.to_datetime(file_df['Date'], format='%Y-%m-%d').dt.date.astype(str)\n",
    "\n",
    "            # write the updated file_df to a new CSV file with 'symbols' suffix\n",
    "            output_filename = os.path.join(directory, symbol + '.csv')\n",
    "            file_df.to_csv(output_filename, index=False)"
   ]
  },
  {
   "cell_type": "code",
   "execution_count": null,
   "metadata": {},
   "outputs": [],
   "source": [
    "import os\n",
    "import pandas as pd\n",
    "import pyarrow.parquet as pq\n",
    "\n",
    "# read symbols_valid_meta.csv into a pandas DataFrame\n",
    "# read symbols_valid_meta.csv into a pandas DataFrame with the desired datatypes\n",
    "\n",
    "def data_tranformation():\n",
    "    symbols_df = pd.read_csv('/opt/airflow/load/symbols_valid_meta.csv')\n",
    "\n",
    "    # define the path to the directory containing the files\n",
    "    directories = ['/opt/airflow/load/stocks/', '/opt/airflow/load/etfs/']\n",
    "\n",
    "    # loop over the directories\n",
    "    for directory in directories:\n",
    "        # loop over the files in the directory\n",
    "        for filename in os.listdir(directory):\n",
    "            if filename.endswith('.csv') and filename != 'symbols_valid_meta.csv':\n",
    "                # read the file into a pandas DataFrame\n",
    "                file_df = pd.read_csv(os.path.join(directory, filename), dtype={'Open': float, 'High': float, 'Low': float, 'Close': float, 'Adj Close': float, 'Volume': float})\n",
    "\n",
    "                # extract the symbol from the file name\n",
    "                symbol = os.path.splitext(os.path.basename(filename))[0]\n",
    "\n",
    "                # find the row in symbols_df that matches the extracted symbol\n",
    "                match = symbols_df[symbols_df['Symbol'] == symbol]\n",
    "\n",
    "                # if a match is found, add the Symbol and Security Name columns to file_df\n",
    "                if len(match) > 0:\n",
    "                    file_df.insert(0, 'Symbol', match['Symbol'].iloc[0])\n",
    "                    file_df.insert(1, 'Security Name', match['Security Name'].iloc[0])\n",
    "\n",
    "                # convert the Date column to the desired datatype\n",
    "                file_df['Date'] = pd.to_datetime(file_df['Date'], format='%Y-%m-%d').dt.date.astype(str)\n",
    "\n",
    "                # write the updated file_df to a new CSV file with 'symbols' suffix\n",
    "                output_filename = os.path.join(directory, symbol + '.csv')\n",
    "                file_df.to_csv(output_filename, index=False)\n",
    "\n",
    "###########################################################################################################\n",
    "\n",
    "def stock_csv_to_parquet():\n",
    "    csv_dir_list = ['/opt/airflow/load/stocks/']\n",
    "    output_dir = '/opt/airflow/load/parquet_stock/'\n",
    "\n",
    "    # Create the output directory if it doesn't exist\n",
    "    if not os.path.exists(output_dir):\n",
    "        os.mkdir(output_dir)\n",
    "\n",
    "    for csv_dir in csv_dir_list:\n",
    "        for file in os.listdir(csv_dir):\n",
    "            if file.endswith('.csv'):\n",
    "                csv_file_path = os.path.join(csv_dir, file)\n",
    "                parquet_file_path = os.path.join(output_dir, os.path.splitext(file)[0] + '.parquet')\n",
    "                table = pd.read_csv(csv_file_path).to_parquet(parquet_file_path)\n",
    "\n",
    "\n",
    "############################################################################################################\n",
    "\n",
    "def etfs_csv_to_parquet():\n",
    "    csv_dir_list = '/opt/airflow/load/etfs/'\n",
    "    output_dir = '/opt/airflow/load/parquet_etfs/'\n",
    "\n",
    "    # Create the output directory if it doesn't exist\n",
    "    if not os.path.exists(output_dir):\n",
    "        os.mkdir(output_dir)\n",
    "\n",
    "    for csv_dir in csv_dir_list:\n",
    "        for file in os.listdir(csv_dir):\n",
    "            if file.endswith('.csv'):\n",
    "                csv_file_path = os.path.join(csv_dir, file)\n",
    "                parquet_file_path = os.path.join(output_dir, os.path.splitext(file)[0] + '.parquet')\n",
    "                table = pd.read_csv(csv_file_path).to_parquet(parquet_file_path)"
   ]
  }
 ],
 "metadata": {
  "kernelspec": {
   "display_name": "base",
   "language": "python",
   "name": "python3"
  },
  "language_info": {
   "codemirror_mode": {
    "name": "ipython",
    "version": 3
   },
   "file_extension": ".py",
   "mimetype": "text/x-python",
   "name": "python",
   "nbconvert_exporter": "python",
   "pygments_lexer": "ipython3",
   "version": "3.9.12"
  },
  "orig_nbformat": 4,
  "vscode": {
   "interpreter": {
    "hash": "a8a63ec78ea32c84482fe7970610cc43c3245c95e9ce1a466286d0918513297a"
   }
  }
 },
 "nbformat": 4,
 "nbformat_minor": 2
}
